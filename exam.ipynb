{
 "cells": [
  {
   "cell_type": "code",
   "execution_count": 66,
   "metadata": {},
   "outputs": [
    {
     "ename": "TypeError",
     "evalue": "TicketReservation.__init__() missing 1 required positional argument: 'hall'",
     "output_type": "error",
     "traceback": [
      "\u001b[0;31m---------------------------------------------------------------------------\u001b[0m",
      "\u001b[0;31mTypeError\u001b[0m                                 Traceback (most recent call last)",
      "Cell \u001b[0;32mIn[66], line 64\u001b[0m\n\u001b[1;32m     60\u001b[0m         plt\u001b[38;5;241m.\u001b[39mylabel(\u001b[38;5;124m\"\u001b[39m\u001b[38;5;124mRow\u001b[39m\u001b[38;5;124m\"\u001b[39m)\n\u001b[1;32m     62\u001b[0m         plt\u001b[38;5;241m.\u001b[39mshow()\n\u001b[0;32m---> 64\u001b[0m system \u001b[38;5;241m=\u001b[39m \u001b[43mTicketReservation\u001b[49m\u001b[43m(\u001b[49m\u001b[43m)\u001b[49m\n\u001b[1;32m     65\u001b[0m hall \u001b[38;5;241m=\u001b[39m system\u001b[38;5;241m.\u001b[39mselect_seats(\u001b[38;5;241m5\u001b[39m, \u001b[38;5;241m8\u001b[39m)\n\u001b[1;32m     66\u001b[0m system\u001b[38;5;241m.\u001b[39mbook_seats(hall, \u001b[38;5;241m2\u001b[39m, \u001b[38;5;241m3\u001b[39m)\n",
      "\u001b[0;31mTypeError\u001b[0m: TicketReservation.__init__() missing 1 required positional argument: 'hall'"
     ]
    }
   ],
   "source": [
    "import matplotlib.pyplot as plt\n",
    "\n",
    "class Hall:\n",
    "    def __init__(self, rows, cols):\n",
    "        self.rows = rows\n",
    "        self.cols = cols\n",
    "        self.seats = [[False for _ in range(cols)] for _ in range(rows)]\n",
    "    \n",
    "    def get_seat_availability(self, row, col):\n",
    "        return not self.seats[row][col]\n",
    "    \n",
    "    def book_seat(self, row, col):\n",
    "        if row < self.rows and col < self.cols and not self.seats[row][col]:\n",
    "            self.seats[row][col] = True\n",
    "            return True\n",
    "    \n",
    "    def cancel_booking(self, row, col):\n",
    "        if row < self.rows and col < self.cols and self.seats[row][col]:\n",
    "            self.seats[row][col] = False\n",
    "            return True\n",
    "        else:\n",
    "            return False\n",
    "\n",
    "class TicketReservation:\n",
    "    def __init__(self, hall):\n",
    "        self.hall = hall\n",
    "    \n",
    "    def select_seats(self, rows, cols):\n",
    "        hall = Hall(rows, cols)\n",
    "        return hall\n",
    "    \n",
    "    def check_availability(self, hall, row, col):\n",
    "        if row >= hall.rows or col >= hall.cols:\n",
    "            print(\"Invalid seat\")\n",
    "            return False\n",
    "        elif not hall.get_seat_availability(row, col):\n",
    "            print(\"This seat already booked\")\n",
    "            return False\n",
    "        else:\n",
    "            return True\n",
    "    \n",
    "    def book_seats(self, hall, row, col):\n",
    "        if self.check_availability(hall, row, col):\n",
    "            hall.book_seat(row, col)\n",
    "            print(f\"{row} and {col} successfully booked\")\n",
    "\n",
    "    def display_seats(self, hall):\n",
    "        rows = hall.rows\n",
    "        cols = hall.cols\n",
    "\n",
    "        plt.figure(figsize=(cols, rows))\n",
    "        for row in range(rows):\n",
    "            for col in range(cols):\n",
    "                if hall.seats[row][col]:\n",
    "                    plt.plot([col], [row], 'o', color='red')\n",
    "                else:\n",
    "                    plt.plot([col], [row], 'o', color='green')\n",
    "\n",
    "        plt.xlabel(\"Column\")\n",
    "        plt.ylabel(\"Row\")\n",
    "\n",
    "        plt.show()\n",
    "\n",
    "system = TicketReservation(None)\n",
    "hall = system.select_seats(5, 8)\n",
    "system.book_seats(hall, 2, 3)\n",
    "system.book_seats(hall, 2, 4)\n",
    "system.check_availability(hall, 10, 10)\n",
    "system.display_seats(hall)\n"
   ]
  }
 ],
 "metadata": {
  "kernelspec": {
   "display_name": "Python 3",
   "language": "python",
   "name": "python3"
  },
  "language_info": {
   "codemirror_mode": {
    "name": "ipython",
    "version": 3
   },
   "file_extension": ".py",
   "mimetype": "text/x-python",
   "name": "python",
   "nbconvert_exporter": "python",
   "pygments_lexer": "ipython3",
   "version": "3.10.12"
  }
 },
 "nbformat": 4,
 "nbformat_minor": 2
}
